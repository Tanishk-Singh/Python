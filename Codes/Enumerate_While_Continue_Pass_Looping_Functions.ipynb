{
 "cells": [
  {
   "cell_type": "markdown",
   "id": "f2614eee",
   "metadata": {},
   "source": [
    "### Enumerate"
   ]
  },
  {
   "cell_type": "code",
   "execution_count": 4,
   "id": "22849e9c",
   "metadata": {},
   "outputs": [
    {
     "name": "stdout",
     "output_type": "stream",
     "text": [
      "(0, 'H')\n",
      "(1, 'e')\n",
      "(2, 'l')\n",
      "(3, 'l')\n",
      "(4, 'l')\n",
      "(5, 'o')\n",
      "(6, 'o')\n",
      "(7, 'o')\n"
     ]
    }
   ],
   "source": [
    "for char in enumerate(\"Helllooo\"):\n",
    "    print(char)"
   ]
  },
  {
   "cell_type": "code",
   "execution_count": 6,
   "id": "c794c783",
   "metadata": {
    "scrolled": true
   },
   "outputs": [
    {
     "name": "stdout",
     "output_type": "stream",
     "text": [
      "0 H\n",
      "1 e\n",
      "2 l\n",
      "3 l\n",
      "4 l\n",
      "5 o\n",
      "6 o\n",
      "7 o\n"
     ]
    }
   ],
   "source": [
    "for i, char in enumerate(\"Helllooo\"):\n",
    "    print(i, char)"
   ]
  },
  {
   "cell_type": "code",
   "execution_count": 9,
   "id": "5f0a83af",
   "metadata": {},
   "outputs": [
    {
     "name": "stdout",
     "output_type": "stream",
     "text": [
      "index is: 50\n"
     ]
    }
   ],
   "source": [
    "for i, char in enumerate(list(range(100))):\n",
    "    if char == 50:\n",
    "        print(f'index is: {i}')"
   ]
  },
  {
   "cell_type": "markdown",
   "id": "23b75260",
   "metadata": {},
   "source": [
    "### While Loop"
   ]
  },
  {
   "cell_type": "code",
   "execution_count": 10,
   "id": "41464760",
   "metadata": {},
   "outputs": [
    {
     "name": "stdout",
     "output_type": "stream",
     "text": [
      "0\n"
     ]
    }
   ],
   "source": [
    "i = 0\n",
    "while i < 50:\n",
    "    print(i)\n",
    "    i += 1\n",
    "    break\n",
    "else:\n",
    "    print('done with all the work')"
   ]
  },
  {
   "cell_type": "code",
   "execution_count": 11,
   "id": "f8821533",
   "metadata": {},
   "outputs": [
    {
     "name": "stdout",
     "output_type": "stream",
     "text": [
      "say something: hey\n",
      "say something: hello\n",
      "say something: Hi!\n",
      "say something: How're you?\n",
      "say something: bye\n"
     ]
    }
   ],
   "source": [
    "while True:\n",
    "    response = input('say something: ')\n",
    "    if (response == 'bye'):\n",
    "        break"
   ]
  },
  {
   "cell_type": "markdown",
   "id": "ea811516",
   "metadata": {},
   "source": [
    "### Continue and Pass"
   ]
  },
  {
   "cell_type": "code",
   "execution_count": 24,
   "id": "c918eb75",
   "metadata": {},
   "outputs": [],
   "source": [
    "my_list = [1, 2, 3]\n",
    "\n",
    "for item in my_list:\n",
    "    continue\n",
    "    print(item)"
   ]
  },
  {
   "cell_type": "code",
   "execution_count": 25,
   "id": "fccae7f3",
   "metadata": {},
   "outputs": [],
   "source": [
    "# prints nothing"
   ]
  },
  {
   "cell_type": "code",
   "execution_count": 27,
   "id": "461272a7",
   "metadata": {},
   "outputs": [
    {
     "name": "stdout",
     "output_type": "stream",
     "text": [
      "1\n",
      "2\n",
      "3\n"
     ]
    }
   ],
   "source": [
    "i = 0\n",
    "while i < len(my_list):\n",
    "    print(my_list[i])\n",
    "    i+=1\n",
    "    continue"
   ]
  },
  {
   "cell_type": "code",
   "execution_count": 29,
   "id": "b6cde0dd",
   "metadata": {},
   "outputs": [
    {
     "ename": "IndentationError",
     "evalue": "expected an indented block (Temp/ipykernel_19868/2117096782.py, line 3)",
     "output_type": "error",
     "traceback": [
      "\u001b[1;36m  File \u001b[1;32m\"C:\\Users\\tanwa\\AppData\\Local\\Temp/ipykernel_19868/2117096782.py\"\u001b[1;36m, line \u001b[1;32m3\u001b[0m\n\u001b[1;33m    #pass\u001b[0m\n\u001b[1;37m         ^\u001b[0m\n\u001b[1;31mIndentationError\u001b[0m\u001b[1;31m:\u001b[0m expected an indented block\n"
     ]
    }
   ],
   "source": [
    "for item in my_list:\n",
    "    #thinking about the next step\n",
    "    #pass"
   ]
  },
  {
   "cell_type": "code",
   "execution_count": 30,
   "id": "7ad06263",
   "metadata": {},
   "outputs": [],
   "source": [
    "for item in my_list:\n",
    "    #thinking about the next step\n",
    "    pass"
   ]
  },
  {
   "cell_type": "code",
   "execution_count": null,
   "id": "47f8de9d",
   "metadata": {},
   "outputs": [],
   "source": [
    "#No errors"
   ]
  },
  {
   "cell_type": "code",
   "execution_count": 61,
   "id": "4cbe14ae",
   "metadata": {},
   "outputs": [
    {
     "name": "stdout",
     "output_type": "stream",
     "text": [
      "   *   \n",
      "  ***  \n",
      " ***** \n",
      "*******\n",
      "   *   \n",
      "   *   \n"
     ]
    }
   ],
   "source": [
    "# Excercise on Looping\n",
    "\n",
    "picture = [\n",
    "  [0,0,0,1,0,0,0],\n",
    "  [0,0,1,1,1,0,0],\n",
    "  [0,1,1,1,1,1,0],\n",
    "  [1,1,1,1,1,1,1],\n",
    "  [0,0,0,1,0,0,0],\n",
    "  [0,0,0,1,0,0,0]\n",
    "]\n",
    "\n",
    "\n",
    "for row in picture:\n",
    "    \n",
    "    for pixel in row:\n",
    "        \n",
    "        if pixel:\n",
    "            \n",
    "            print('*', end = \"\")\n",
    "            \n",
    "        else :\n",
    "            \n",
    "            print(' ',end=\"\")\n",
    "            \n",
    "    print(\"\")  #as newline is default for end in a print\n",
    " "
   ]
  },
  {
   "cell_type": "code",
   "execution_count": null,
   "id": "9ce73f24",
   "metadata": {},
   "outputs": [],
   "source": [
    "# Excercise : Find duplicates"
   ]
  },
  {
   "cell_type": "code",
   "execution_count": 78,
   "id": "f92c9f52",
   "metadata": {},
   "outputs": [],
   "source": [
    "some_list = ['a', 'b', 'c', 'b', 'd', 'm', 'n', 'n']"
   ]
  },
  {
   "cell_type": "code",
   "execution_count": 79,
   "id": "1c2756e3",
   "metadata": {},
   "outputs": [
    {
     "name": "stdout",
     "output_type": "stream",
     "text": [
      "['b', 'n']\n"
     ]
    }
   ],
   "source": [
    "index = 1\n",
    "duplicate = []\n",
    "for i in some_list:\n",
    "    if i in some_list[index:]:\n",
    "        duplicate.append(i)\n",
    "    index+=1\n",
    "    \n",
    "print(duplicate)"
   ]
  },
  {
   "cell_type": "code",
   "execution_count": 80,
   "id": "caecef72",
   "metadata": {},
   "outputs": [
    {
     "name": "stdout",
     "output_type": "stream",
     "text": [
      "['b', 'n']\n"
     ]
    }
   ],
   "source": [
    "duplicates = []\n",
    "for value in some_list:\n",
    "    if some_list.count(value) > 1:\n",
    "        if value not in duplicates:\n",
    "            duplicates.append(value)\n",
    "print(duplicates)"
   ]
  },
  {
   "cell_type": "code",
   "execution_count": null,
   "id": "0ff41fe5",
   "metadata": {},
   "outputs": [],
   "source": []
  },
  {
   "cell_type": "code",
   "execution_count": null,
   "id": "0d3cc96e",
   "metadata": {},
   "outputs": [],
   "source": []
  },
  {
   "cell_type": "code",
   "execution_count": null,
   "id": "a01d56dc",
   "metadata": {},
   "outputs": [],
   "source": []
  },
  {
   "cell_type": "code",
   "execution_count": null,
   "id": "077a4168",
   "metadata": {},
   "outputs": [],
   "source": []
  },
  {
   "cell_type": "code",
   "execution_count": null,
   "id": "a2bf8163",
   "metadata": {},
   "outputs": [],
   "source": []
  }
 ],
 "metadata": {
  "kernelspec": {
   "display_name": "Python [conda env:python_development]",
   "language": "python",
   "name": "conda-env-python_development-py"
  },
  "language_info": {
   "codemirror_mode": {
    "name": "ipython",
    "version": 3
   },
   "file_extension": ".py",
   "mimetype": "text/x-python",
   "name": "python",
   "nbconvert_exporter": "python",
   "pygments_lexer": "ipython3",
   "version": "3.9.7"
  }
 },
 "nbformat": 4,
 "nbformat_minor": 5
}
